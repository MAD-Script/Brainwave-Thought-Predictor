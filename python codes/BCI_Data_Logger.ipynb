{
 "cells": [
  {
   "cell_type": "markdown",
   "metadata": {},
   "source": [
    " Import Libraries and Configuration"
   ]
  },
  {
   "cell_type": "code",
   "execution_count": 1,
   "metadata": {},
   "outputs": [],
   "source": [
    "import serial\n",
    "import csv\n",
    "import time\n"
   ]
  },
  {
   "cell_type": "markdown",
   "metadata": {},
   "source": [
    "Serial Port Configuration and File Creation"
   ]
  },
  {
   "cell_type": "code",
   "execution_count": 3,
   "metadata": {},
   "outputs": [],
   "source": [
    "# Configure the serial port - adjust the port name as needed\n",
    "ser = serial.Serial('COM5', 115200, timeout=1)\n",
    "\n",
    "# Generate a unique filename based on the current timestamp\n",
    "timestamp = time.strftime(\"%Y%m%d%H%M%S\")\n",
    "csv_filename = f\"brainwave_data_{timestamp}.csv\"\n",
    "csv_file = open(csv_filename, mode='w', newline='')\n",
    "csv_writer = csv.writer(csv_file)"
   ]
  },
  {
   "cell_type": "markdown",
   "metadata": {},
   "source": [
    "Initialize Data Structures and Settings"
   ]
  },
  {
   "cell_type": "code",
   "execution_count": 4,
   "metadata": {},
   "outputs": [],
   "source": [
    "# Initialize a list to store frequencies\n",
    "frequencies = []\n",
    "\n",
    "# Define the recording duration in seconds\n",
    "recording_duration = 60  # Adjust as needed\n",
    "\n",
    "# Define the number of samples\n",
    "num_samples = 128\n",
    "\n",
    "# Calculate the number of rows to record\n",
    "num_rows_to_record = recording_duration * num_samples\n"
   ]
  },
  {
   "cell_type": "markdown",
   "metadata": {},
   "source": [
    "Read and Process Serial Data"
   ]
  },
  {
   "cell_type": "code",
   "execution_count": 6,
   "metadata": {},
   "outputs": [],
   "source": [
    "# Read and process data from the serial port\n",
    "def read_serial_data():\n",
    "    psd_values = [[] for _ in range(num_samples)]  # Initialize a list of empty lists for PSD values\n",
    "    recorded_rows = 0\n",
    "    while recorded_rows < num_rows_to_record:\n",
    "        line = ser.readline().decode().strip()  # Read a line from the serial port\n",
    "        values = line.split(\",\")\n",
    "        if len(values) == 2:\n",
    "            try:\n",
    "                frequency = float(values[0])\n",
    "                psd = float(values[1])\n",
    "                frequencies.append(frequency)\n",
    "                for i in range(num_samples):\n",
    "                    psd_values[i].append(psd)\n",
    "                recorded_rows += 1\n",
    "                if recorded_rows >= num_rows_to_record:\n",
    "                    save_to_csv(frequencies, psd_values)\n",
    "                    print(\"Recording complete. Press Enter to start a new recording or Ctrl+C to exit.\")\n",
    "                    input()  # Wait for user input to start a new recording\n",
    "            except ValueError:\n",
    "                pass\n"
   ]
  },
  {
   "cell_type": "markdown",
   "metadata": {},
   "source": [
    "Save Data to CSV"
   ]
  },
  {
   "cell_type": "code",
   "execution_count": 7,
   "metadata": {},
   "outputs": [],
   "source": [
    "# Save data to the CSV file\n",
    "def save_to_csv(frequencies, psd_values):\n",
    "    # Write the header row with frequencies\n",
    "    if not csv_writer:\n",
    "        csv_writer.writerow(['Frequency (Hz)'] + frequencies)\n",
    "    # Write rows with PSD values for each frequency\n",
    "    for i in range(num_samples):\n",
    "        csv_writer.writerow(['PSD' + str(i + 1)] + psd_values[i])\n",
    "    csv_file.flush()  # Ensure data is written immediately\n",
    "    frequencies.clear()\n",
    "    for i in range(num_samples):\n",
    "        psd_values[i].clear()\n"
   ]
  },
  {
   "cell_type": "markdown",
   "metadata": {},
   "source": [
    "Start Data Collection"
   ]
  },
  {
   "cell_type": "code",
   "execution_count": 8,
   "metadata": {},
   "outputs": [
    {
     "name": "stdout",
     "output_type": "stream",
     "text": [
      "Data collection stopped.\n"
     ]
    }
   ],
   "source": [
    "# Start reading and saving data\n",
    "try:\n",
    "    read_serial_data()\n",
    "except KeyboardInterrupt:\n",
    "    print(\"Data collection stopped.\")\n",
    "finally:\n",
    "    # Close the serial port and CSV file when done\n",
    "    ser.close()\n",
    "    csv_file.close()\n"
   ]
  }
 ],
 "metadata": {
  "kernelspec": {
   "display_name": "Python 3",
   "language": "python",
   "name": "python3"
  },
  "language_info": {
   "codemirror_mode": {
    "name": "ipython",
    "version": 3
   },
   "file_extension": ".py",
   "mimetype": "text/x-python",
   "name": "python",
   "nbconvert_exporter": "python",
   "pygments_lexer": "ipython3",
   "version": "3.10.11"
  },
  "orig_nbformat": 4
 },
 "nbformat": 4,
 "nbformat_minor": 2
}
